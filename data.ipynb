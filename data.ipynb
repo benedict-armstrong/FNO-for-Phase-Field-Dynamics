{
 "cells": [
  {
   "cell_type": "code",
   "execution_count": 5,
   "metadata": {},
   "outputs": [],
   "source": [
    "import numpy as np\n",
    "import matplotlib.pyplot as plt\n",
    "import matplotlib.style as mplstyle\n",
    "from matplotlib import rcParams\n",
    "\n",
    "import ipywidgets\n",
    "from ipywidgets import interact\n",
    "import IPython\n",
    "\n",
    "from lib.allen_cahn import *\n",
    "mplstyle.use('fast')"
   ]
  },
  {
   "cell_type": "code",
   "execution_count": 6,
   "metadata": {},
   "outputs": [],
   "source": [
    "rcParams['figure.figsize'] = (20, 12)\n",
    "rcParams['font.size'] = 16\n",
    "rcParams['lines.linewidth'] = 4\n",
    "rcParams['lines.markersize'] = 20"
   ]
  },
  {
   "cell_type": "code",
   "execution_count": 7,
   "metadata": {},
   "outputs": [],
   "source": [
    "layout = ipywidgets.Layout(width='auto', height='40px')"
   ]
  },
  {
   "cell_type": "code",
   "execution_count": null,
   "metadata": {},
   "outputs": [],
   "source": [
    "def draw(epsilon, final_t, ic_type):\n",
    "    output = ipywidgets.Output()\n",
    "    x_grid = np.linspace(-1, 1, 100)\n",
    "    t_grid = np.linspace(0, final_t, 100)\n",
    "\n",
    "    def sample_data():\n",
    "        print(f\"epsilon = {epsilon}, final_t = {final_t}, ic_type = {ic_type}\")\n",
    "        with output:\n",
    "            output.clear_output()\n",
    "            data = generate_dataset(3, epsilon, x_grid, t_grid, ic_type=ic_type, seed=None)\n",
    "            \n",
    "            fig, axs = plt.subplots(1, 3)\n",
    "            for i, (sample, ax) in enumerate(zip(data, axs)):\n",
    "                for x in sample:\n",
    "                    ax.plot(x_grid, x)\n",
    "                ax.set_title(f't = {final_t[i]}')\n",
    "                ax.set_ylim(-1, 1)\n",
    "\n",
    "            plt.tight_layout(pad=0.2)\n",
    "            IPython.display.clear_output(wait=True)\n",
    "            IPython.display.display(plt.gcf())\n",
    "            plt.close()\n",
    "\n",
    "    sample_data()\n",
    "\n",
    "interact(draw,\n",
    "            epsilon=ipywidgets.FloatSlider(value=0.01, min=0.001, max=0.1, step=0.001, layout=layout),\n",
    "            final_t=ipywidgets.FloatSlider(value=0.1, min=0.01, max=1, step=0.01, layout=layout),\n",
    "            ic_type=ipywidgets.Dropdown(options=[\"fourier\", \"gmm\", \"piecewise\"], value='random', layout=layout)\n",
    "            )"
   ]
  }
 ],
 "metadata": {
  "kernelspec": {
   "display_name": ".venv",
   "language": "python",
   "name": "python3"
  },
  "language_info": {
   "codemirror_mode": {
    "name": "ipython",
    "version": 3
   },
   "file_extension": ".py",
   "mimetype": "text/x-python",
   "name": "python",
   "nbconvert_exporter": "python",
   "pygments_lexer": "ipython3",
   "version": "3.12.8"
  }
 },
 "nbformat": 4,
 "nbformat_minor": 2
}
