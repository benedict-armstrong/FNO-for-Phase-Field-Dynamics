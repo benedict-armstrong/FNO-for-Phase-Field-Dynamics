{
 "cells": [
  {
   "cell_type": "code",
   "execution_count": 1,
   "metadata": {},
   "outputs": [],
   "source": [
    "import numpy as np\n",
    "import matplotlib.pyplot as plt\n",
    "import matplotlib.style as mplstyle\n",
    "from matplotlib import rcParams\n",
    "import seaborn as sns\n",
    "\n",
    "import ipywidgets\n",
    "from ipywidgets import interact\n",
    "import IPython\n",
    "\n",
    "from lib.allen_cahn import *\n",
    "mplstyle.use('fast')"
   ]
  },
  {
   "cell_type": "code",
   "execution_count": 2,
   "metadata": {},
   "outputs": [],
   "source": [
    "sns.set_context('paper')"
   ]
  },
  {
   "cell_type": "code",
   "execution_count": 3,
   "metadata": {},
   "outputs": [],
   "source": [
    "layout = ipywidgets.Layout(width='auto', height='40px')"
   ]
  },
  {
   "cell_type": "code",
   "execution_count": 11,
   "metadata": {},
   "outputs": [
    {
     "data": {
      "application/vnd.jupyter.widget-view+json": {
       "model_id": "ca0dc12006ca45ceb3f4546dc82cedd3",
       "version_major": 2,
       "version_minor": 0
      },
      "text/plain": [
       "Output()"
      ]
     },
     "metadata": {},
     "output_type": "display_data"
    },
    {
     "data": {
      "application/vnd.jupyter.widget-view+json": {
       "model_id": "3fcdaf2e639945aa8745f2244526d80f",
       "version_major": 2,
       "version_minor": 0
      },
      "text/plain": [
       "interactive(children=(Dropdown(description='epsilon', layout=Layout(height='40px', width='auto'), options=(0.1…"
      ]
     },
     "metadata": {},
     "output_type": "display_data"
    },
    {
     "data": {
      "application/vnd.jupyter.widget-view+json": {
       "model_id": "7b60b42e468d4e86a5e440eda161c856",
       "version_major": 2,
       "version_minor": 0
      },
      "text/plain": [
       "Output()"
      ]
     },
     "metadata": {},
     "output_type": "display_data"
    },
    {
     "data": {
      "text/plain": [
       "<function __main__.draw(epsilon, final_t, ic_type)>"
      ]
     },
     "execution_count": 11,
     "metadata": {},
     "output_type": "execute_result"
    }
   ],
   "source": [
    "def draw(epsilon, final_t, ic_type):\n",
    "    output = ipywidgets.Output()\n",
    "    x_grid = np.linspace(-1, 1, 100)\n",
    "    t_grid = np.linspace(0, final_t, 5)\n",
    "    t_grid = np.concatenate([t_grid, [1]])\n",
    "\n",
    "    def sample_data():\n",
    "        print(f\"epsilon = {epsilon:.5f}, final_t = {final_t:.5f}, ic_type = {ic_type} {t_grid=}\")\n",
    "        time_scale = epsilon\n",
    "        print(f\"{t_grid * time_scale=}\")\n",
    "        with output:\n",
    "            output.clear_output()\n",
    "            # data = generate_dataset(5, epsilon, x_grid, t_grid, ic_type=ic_type, seed=100)\n",
    "\n",
    "            # print(\"Data shape:\", data.shape)\n",
    "            \n",
    "            # fig, axs = plt.subplots(1, 5, figsize=(20, 5))\n",
    "            # for i, (sample, ax) in enumerate(zip(data, axs)):\n",
    "            #     for j, x in enumerate(sample):\n",
    "            #         ax.plot(x_grid, x[:, 0], label=f\"t = {t_grid[j]:.2f}\")\n",
    "            #     ax.set_ylim(-1.1, 1.1)\n",
    "            #     ax.set_title(f\"Sample {i+1}\")\n",
    "            #     ax.legend()\n",
    "\n",
    "            # plt.tight_layout(pad=0.2)\n",
    "            # IPython.display.clear_output()\n",
    "            # IPython.display.display(plt.gcf())\n",
    "            # plt.close()\n",
    "\n",
    "    sample_data()\n",
    "\n",
    "    display(output)\n",
    "\n",
    "interact(draw,\n",
    "            #epsilon=ipywidgets.FloatSlider(value=0.01, min=0.001, max=0.1, step=0.001, layout=layout),\n",
    "            epsilon=ipywidgets.Dropdown(options=[0.1, 0.05, 0.02], value=0.1, layout=layout),\n",
    "            final_t=ipywidgets.FloatSlider(value=1e-3, min=1e-4, max=1e-1, step=0.001, layout=layout, continuous_update=False),\n",
    "            ic_type=ipywidgets.Dropdown(options=[\"fourier\", \"gmm\", \"piecewise\"], value='fourier', layout=layout)\n",
    "            )"
   ]
  }
 ],
 "metadata": {
  "kernelspec": {
   "display_name": ".venv",
   "language": "python",
   "name": "python3"
  },
  "language_info": {
   "codemirror_mode": {
    "name": "ipython",
    "version": 3
   },
   "file_extension": ".py",
   "mimetype": "text/x-python",
   "name": "python",
   "nbconvert_exporter": "python",
   "pygments_lexer": "ipython3",
   "version": "3.12.7"
  }
 },
 "nbformat": 4,
 "nbformat_minor": 2
}
